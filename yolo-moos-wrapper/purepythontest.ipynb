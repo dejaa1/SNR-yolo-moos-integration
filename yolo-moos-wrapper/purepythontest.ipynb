{
 "cells": [
  {
   "cell_type": "code",
   "execution_count": 2,
   "id": "ea2f39a0",
   "metadata": {},
   "outputs": [
    {
     "name": "stdout",
     "output_type": "stream",
     "text": [
      "/home/adeja/CompVision/repos/SNR\r\n"
     ]
    }
   ],
   "source": [
    "!pwd\n",
    "!cd yolo"
   ]
  },
  {
   "cell_type": "code",
   "execution_count": 6,
   "id": "c466b454",
   "metadata": {},
   "outputs": [
    {
     "name": "stderr",
     "output_type": "stream",
     "text": [
      "Using cache found in /home/adeja/.cache/torch/hub/ultralytics_yolov5_master\n",
      "YOLOv5 🚀 2023-7-5 Python-3.8.10 torch-2.0.1+cu117 CUDA:0 (NVIDIA TITAN Xp, 12196MiB)\n",
      "\n",
      "Downloading https://github.com/ultralytics/yolov5/releases/download/v7.0/yolov5l.pt to yolov5l.pt...\n",
      "100%|███████████████████████████████████████████████████████████████████████████████████| 89.3M/89.3M [00:30<00:00, 3.12MB/s]\n",
      "\n",
      "Fusing layers... \n",
      "YOLOv5l summary: 367 layers, 46533693 parameters, 0 gradients\n",
      "Adding AutoShape... \n",
      "image 1/1: 720x1280 2 persons, 1 tie\n",
      "Speed: 343.6ms pre-process, 33.3ms inference, 1.3ms NMS per image at shape (1, 3, 384, 640)\n"
     ]
    },
    {
     "data": {
      "text/html": [
       "<div>\n",
       "<style scoped>\n",
       "    .dataframe tbody tr th:only-of-type {\n",
       "        vertical-align: middle;\n",
       "    }\n",
       "\n",
       "    .dataframe tbody tr th {\n",
       "        vertical-align: top;\n",
       "    }\n",
       "\n",
       "    .dataframe thead th {\n",
       "        text-align: right;\n",
       "    }\n",
       "</style>\n",
       "<table border=\"1\" class=\"dataframe\">\n",
       "  <thead>\n",
       "    <tr style=\"text-align: right;\">\n",
       "      <th></th>\n",
       "      <th>xmin</th>\n",
       "      <th>ymin</th>\n",
       "      <th>xmax</th>\n",
       "      <th>ymax</th>\n",
       "      <th>confidence</th>\n",
       "      <th>class</th>\n",
       "      <th>name</th>\n",
       "    </tr>\n",
       "  </thead>\n",
       "  <tbody>\n",
       "    <tr>\n",
       "      <th>0</th>\n",
       "      <td>748.422546</td>\n",
       "      <td>43.730042</td>\n",
       "      <td>1139.406006</td>\n",
       "      <td>708.865723</td>\n",
       "      <td>0.942000</td>\n",
       "      <td>0</td>\n",
       "      <td>person</td>\n",
       "    </tr>\n",
       "    <tr>\n",
       "      <th>1</th>\n",
       "      <td>135.990417</td>\n",
       "      <td>200.429749</td>\n",
       "      <td>1110.418701</td>\n",
       "      <td>712.555786</td>\n",
       "      <td>0.891918</td>\n",
       "      <td>0</td>\n",
       "      <td>person</td>\n",
       "    </tr>\n",
       "    <tr>\n",
       "      <th>2</th>\n",
       "      <td>434.501740</td>\n",
       "      <td>437.446960</td>\n",
       "      <td>524.843628</td>\n",
       "      <td>715.865173</td>\n",
       "      <td>0.813885</td>\n",
       "      <td>27</td>\n",
       "      <td>tie</td>\n",
       "    </tr>\n",
       "  </tbody>\n",
       "</table>\n",
       "</div>"
      ],
      "text/plain": [
       "         xmin        ymin         xmax        ymax  confidence  class    name\n",
       "0  748.422546   43.730042  1139.406006  708.865723    0.942000      0  person\n",
       "1  135.990417  200.429749  1110.418701  712.555786    0.891918      0  person\n",
       "2  434.501740  437.446960   524.843628  715.865173    0.813885     27     tie"
      ]
     },
     "execution_count": 6,
     "metadata": {},
     "output_type": "execute_result"
    }
   ],
   "source": [
    "import torch\n",
    "model = torch.hub.load('.', 'custom', path='/path/to/yolov5/runs/train/exp5/weights/best.pt', source='local') \n",
    "# Image\n",
    "img = '/path/to/test/image/25.jpg'\n",
    "# Inference\n",
    "results = model(img)\n",
    "# Results, change the flowing to: results.show()\n",
    "results.show()  # or .show(), .save(), .crop(), .pandas(), etc\n",
    "results.print()  # or .show(), .save(), .crop(), .pandas(), etc.\n",
    "\n",
    "results.xyxy[0]  # im predictions (tensor)\n",
    "results.pandas().xyxy[0]\n"
   ]
  },
  {
   "cell_type": "code",
   "execution_count": null,
   "id": "b70c77ad",
   "metadata": {},
   "outputs": [],
   "source": []
  }
 ],
 "metadata": {
  "kernelspec": {
   "display_name": "Python 3 (ipykernel)",
   "language": "python",
   "name": "python3"
  },
  "language_info": {
   "codemirror_mode": {
    "name": "ipython",
    "version": 3
   },
   "file_extension": ".py",
   "mimetype": "text/x-python",
   "name": "python",
   "nbconvert_exporter": "python",
   "pygments_lexer": "ipython3",
   "version": "3.8.10"
  }
 },
 "nbformat": 4,
 "nbformat_minor": 5
}
