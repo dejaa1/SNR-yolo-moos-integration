{
 "cells": [
  {
   "cell_type": "code",
   "execution_count": 8,
   "id": "ea2f39a0",
   "metadata": {},
   "outputs": [
    {
     "name": "stdout",
     "output_type": "stream",
     "text": [
      "/home/adeja/CompVision/repos/SNR-yolo-moos-integration/yolo-moos-wrapper\n"
     ]
    }
   ],
   "source": [
    "!pwd\n",
    "!cd yolo"
   ]
  },
  {
   "cell_type": "code",
   "execution_count": 9,
   "id": "1eaa2216",
   "metadata": {},
   "outputs": [],
   "source": [
    "!cd yolo"
   ]
  },
  {
   "cell_type": "code",
   "execution_count": 12,
   "id": "c466b454",
   "metadata": {},
   "outputs": [
    {
     "ename": "FileNotFoundError",
     "evalue": "[Errno 2] No such file or directory: '/home/adeja/CompVision/repos/SNR-yolo-moos-integration/yolo-moos-wrapper/./hubconf.py'",
     "output_type": "error",
     "traceback": [
      "\u001b[0;31m---------------------------------------------------------------------------\u001b[0m",
      "\u001b[0;31mFileNotFoundError\u001b[0m                         Traceback (most recent call last)",
      "Cell \u001b[0;32mIn[12], line 2\u001b[0m\n\u001b[1;32m      1\u001b[0m \u001b[39mimport\u001b[39;00m \u001b[39mtorch\u001b[39;00m\n\u001b[0;32m----> 2\u001b[0m model \u001b[39m=\u001b[39m torch\u001b[39m.\u001b[39;49mhub\u001b[39m.\u001b[39;49mload(\u001b[39m'\u001b[39;49m\u001b[39m.\u001b[39;49m\u001b[39m'\u001b[39;49m, \u001b[39m'\u001b[39;49m\u001b[39mcustom\u001b[39;49m\u001b[39m'\u001b[39;49m, path\u001b[39m=\u001b[39;49m\u001b[39m'\u001b[39;49m\u001b[39m/path/to/yolov5/runs/train/exp5/weights/best.pt\u001b[39;49m\u001b[39m'\u001b[39;49m, source\u001b[39m=\u001b[39;49m\u001b[39m'\u001b[39;49m\u001b[39mlocal\u001b[39;49m\u001b[39m'\u001b[39;49m) \n\u001b[1;32m      3\u001b[0m \u001b[39m#model = torch.hub.load('.', 'custom', path='yolov5s.pt', source='local') \u001b[39;00m\n\u001b[1;32m      4\u001b[0m \u001b[39m# Image\u001b[39;00m\n\u001b[1;32m      5\u001b[0m img \u001b[39m=\u001b[39m \u001b[39m'\u001b[39m\u001b[39m~/Downloads/test2yolo.jpg\u001b[39m\u001b[39m'\u001b[39m\n",
      "File \u001b[0;32m~/.local/lib/python3.8/site-packages/torch/hub.py:558\u001b[0m, in \u001b[0;36mload\u001b[0;34m(repo_or_dir, model, source, trust_repo, force_reload, verbose, skip_validation, *args, **kwargs)\u001b[0m\n\u001b[1;32m    554\u001b[0m \u001b[39mif\u001b[39;00m source \u001b[39m==\u001b[39m \u001b[39m'\u001b[39m\u001b[39mgithub\u001b[39m\u001b[39m'\u001b[39m:\n\u001b[1;32m    555\u001b[0m     repo_or_dir \u001b[39m=\u001b[39m _get_cache_or_reload(repo_or_dir, force_reload, trust_repo, \u001b[39m\"\u001b[39m\u001b[39mload\u001b[39m\u001b[39m\"\u001b[39m,\n\u001b[1;32m    556\u001b[0m                                        verbose\u001b[39m=\u001b[39mverbose, skip_validation\u001b[39m=\u001b[39mskip_validation)\n\u001b[0;32m--> 558\u001b[0m model \u001b[39m=\u001b[39m _load_local(repo_or_dir, model, \u001b[39m*\u001b[39;49margs, \u001b[39m*\u001b[39;49m\u001b[39m*\u001b[39;49mkwargs)\n\u001b[1;32m    559\u001b[0m \u001b[39mreturn\u001b[39;00m model\n",
      "File \u001b[0;32m~/.local/lib/python3.8/site-packages/torch/hub.py:584\u001b[0m, in \u001b[0;36m_load_local\u001b[0;34m(hubconf_dir, model, *args, **kwargs)\u001b[0m\n\u001b[1;32m    582\u001b[0m \u001b[39mwith\u001b[39;00m _add_to_sys_path(hubconf_dir):\n\u001b[1;32m    583\u001b[0m     hubconf_path \u001b[39m=\u001b[39m os\u001b[39m.\u001b[39mpath\u001b[39m.\u001b[39mjoin(hubconf_dir, MODULE_HUBCONF)\n\u001b[0;32m--> 584\u001b[0m     hub_module \u001b[39m=\u001b[39m _import_module(MODULE_HUBCONF, hubconf_path)\n\u001b[1;32m    586\u001b[0m     entry \u001b[39m=\u001b[39m _load_entry_from_hubconf(hub_module, model)\n\u001b[1;32m    587\u001b[0m     model \u001b[39m=\u001b[39m entry(\u001b[39m*\u001b[39margs, \u001b[39m*\u001b[39m\u001b[39m*\u001b[39mkwargs)\n",
      "File \u001b[0;32m~/.local/lib/python3.8/site-packages/torch/hub.py:98\u001b[0m, in \u001b[0;36m_import_module\u001b[0;34m(name, path)\u001b[0m\n\u001b[1;32m     96\u001b[0m module \u001b[39m=\u001b[39m importlib\u001b[39m.\u001b[39mutil\u001b[39m.\u001b[39mmodule_from_spec(spec)\n\u001b[1;32m     97\u001b[0m \u001b[39massert\u001b[39;00m \u001b[39misinstance\u001b[39m(spec\u001b[39m.\u001b[39mloader, Loader)\n\u001b[0;32m---> 98\u001b[0m spec\u001b[39m.\u001b[39;49mloader\u001b[39m.\u001b[39;49mexec_module(module)\n\u001b[1;32m     99\u001b[0m \u001b[39mreturn\u001b[39;00m module\n",
      "File \u001b[0;32m<frozen importlib._bootstrap_external>:844\u001b[0m, in \u001b[0;36mexec_module\u001b[0;34m(self, module)\u001b[0m\n",
      "File \u001b[0;32m<frozen importlib._bootstrap_external>:980\u001b[0m, in \u001b[0;36mget_code\u001b[0;34m(self, fullname)\u001b[0m\n",
      "File \u001b[0;32m<frozen importlib._bootstrap_external>:1037\u001b[0m, in \u001b[0;36mget_data\u001b[0;34m(self, path)\u001b[0m\n",
      "\u001b[0;31mFileNotFoundError\u001b[0m: [Errno 2] No such file or directory: '/home/adeja/CompVision/repos/SNR-yolo-moos-integration/yolo-moos-wrapper/./hubconf.py'"
     ]
    }
   ],
   "source": [
    "import torch\n",
    "model = torch.hub.load('.', 'custom', path='/path/to/yolov5/runs/train/exp5/weights/best.pt', source='local') \n",
    "#model = torch.hub.load('.', 'custom', path='yolov5s.pt', source='local') \n",
    "# Image\n",
    "img = '~/Downloads/test2yolo.jpg'\n",
    "# Inference\n",
    "results = model(img)\n",
    "# Results, change the flowing to: results.show()\n",
    "results.show()  # or .show(), .save(), .crop(), .pandas(), etc\n",
    "results.print()  # or .show(), .save(), .crop(), .pandas(), etc.\n",
    "\n",
    "results.xyxy[0]  # im predictions (tensor)\n",
    "results.pandas().xyxy[0]\n"
   ]
  },
  {
   "cell_type": "code",
   "execution_count": null,
   "id": "b70c77ad",
   "metadata": {},
   "outputs": [],
   "source": []
  }
 ],
 "metadata": {
  "kernelspec": {
   "display_name": "Python 3 (ipykernel)",
   "language": "python",
   "name": "python3"
  },
  "language_info": {
   "codemirror_mode": {
    "name": "ipython",
    "version": 3
   },
   "file_extension": ".py",
   "mimetype": "text/x-python",
   "name": "python",
   "nbconvert_exporter": "python",
   "pygments_lexer": "ipython3",
   "version": "3.8.10"
  }
 },
 "nbformat": 4,
 "nbformat_minor": 5
}
