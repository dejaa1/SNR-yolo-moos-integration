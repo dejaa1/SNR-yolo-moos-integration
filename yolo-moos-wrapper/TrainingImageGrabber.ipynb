{
 "cells": [
  {
   "cell_type": "code",
   "execution_count": null,
   "id": "fdb191f9",
   "metadata": {},
   "outputs": [],
   "source": [
    "import cv2\n",
    "stream_address = 'http://192.168.1.83:8081/'\n",
    "cam_input = 4\n",
    "cap = cv2.VideoCapture(cam_input)\n",
    "import time\n",
    "folderpath = 'datasets/searoboticsview/test1'\n",
    "import random\n",
    "print(\"working?\")\n",
    "# For streams:\n",
    "#   cap = cv2.VideoCapture('rtsp://url.to.stream/media.amqp')\n",
    "# Or e.g. most common ID for webcams:\n",
    "#   cap = cv2.VideoCapture(0)\n",
    "count = 0\n",
    "while cap.isOpened():\n",
    "    ret, frame = cap.read()\n",
    "    if ret:\n",
    "        cv2.imwrite(folderpath + '/pic{:d}.jpg'.format(count), frame)\n",
    "        print('written: folderpath', count)\n",
    "        random_number = round(random.uniform(0.3, 2.0), 1)\n",
    "        print(random_number)\n",
    "        time.sleep(random_number)\n",
    "        count += 1\n",
    "        cap.set(cv2.CAP_PROP_POS_FRAMES, count)\n",
    "    else:\n",
    "        cap.release()\n",
    "        break"
   ]
  },
  {
   "cell_type": "code",
   "execution_count": null,
   "id": "8c0628a6",
   "metadata": {},
   "outputs": [],
   "source": []
  },
  {
   "cell_type": "code",
   "execution_count": null,
   "id": "45ae5421",
   "metadata": {},
   "outputs": [],
   "source": []
  },
  {
   "cell_type": "code",
   "execution_count": null,
   "id": "00fc6a62",
   "metadata": {},
   "outputs": [],
   "source": []
  },
  {
   "cell_type": "code",
   "execution_count": null,
   "id": "dc646ab7",
   "metadata": {},
   "outputs": [],
   "source": []
  },
  {
   "cell_type": "code",
   "execution_count": null,
   "id": "2a06907f",
   "metadata": {},
   "outputs": [],
   "source": []
  }
 ],
 "metadata": {
  "kernelspec": {
   "display_name": "Python 3 (ipykernel)",
   "language": "python",
   "name": "python3"
  },
  "language_info": {
   "codemirror_mode": {
    "name": "ipython",
    "version": 3
   },
   "file_extension": ".py",
   "mimetype": "text/x-python",
   "name": "python",
   "nbconvert_exporter": "python",
   "pygments_lexer": "ipython3",
   "version": "3.8.10"
  }
 },
 "nbformat": 4,
 "nbformat_minor": 5
}
